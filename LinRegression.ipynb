{
  "nbformat": 4,
  "nbformat_minor": 0,
  "metadata": {
    "colab": {
      "name": "LinRegression.ipynb",
      "provenance": [],
      "collapsed_sections": [],
      "include_colab_link": true
    },
    "kernelspec": {
      "name": "python3",
      "display_name": "Python 3"
    }
  },
  "cells": [
    {
      "cell_type": "markdown",
      "metadata": {
        "id": "view-in-github",
        "colab_type": "text"
      },
      "source": [
        "<a href=\"https://colab.research.google.com/github/Maxlab/pytorch_learn/blob/master/LinRegression.ipynb\" target=\"_parent\"><img src=\"https://colab.research.google.com/assets/colab-badge.svg\" alt=\"Open In Colab\"/></a>"
      ]
    },
    {
      "cell_type": "code",
      "metadata": {
        "id": "LSHtnW_q8r07",
        "colab_type": "code",
        "colab": {}
      },
      "source": [
        "import torch\n",
        "from torch.nn import Linear \n",
        "import matplotlib.pyplot as plt\n",
        "import numpy as np"
      ],
      "execution_count": 0,
      "outputs": []
    },
    {
      "cell_type": "code",
      "metadata": {
        "id": "r762Ss8GnbSr",
        "colab_type": "code",
        "colab": {
          "base_uri": "https://localhost:8080/",
          "height": 282
        },
        "outputId": "88647b44-25cd-4267-a4b1-5a8ef14ff678"
      },
      "source": [
        "x = torch.randn(100, 1)*10\n",
        "y = x + 5*torch.randn(100, 1)\n",
        "\n",
        "plt.plot(x.numpy(),y.numpy(), 'o')\n",
        "plt.ylabel('y')\n",
        "plt.ylabel('x')"
      ],
      "execution_count": 2,
      "outputs": [
        {
          "output_type": "execute_result",
          "data": {
            "text/plain": [
              "Text(0, 0.5, 'x')"
            ]
          },
          "metadata": {
            "tags": []
          },
          "execution_count": 2
        },
        {
          "output_type": "display_data",
          "data": {
            "image/png": "[encoded data removed]",
            "text/plain": [
              "<Figure size 432x288 with 1 Axes>"
            ]
          },
          "metadata": {
            "tags": []
          }
        }
      ]
    },
    {
      "cell_type": "code",
      "metadata": {
        "id": "OPaujnT2ByXT",
        "colab_type": "code",
        "colab": {}
      },
      "source": [
        "class LR(torch.nn.Module):\n",
        "  def __init__(self, in_f, out_f):\n",
        "    super().__init__()\n",
        "    self.linear = torch.nn.Linear(in_f, out_f)\n",
        "    \n",
        "  def forward(self, x):\n",
        "    predict = self.linear(x)\n",
        "    return predict"
      ],
      "execution_count": 0,
      "outputs": []
    },
    {
      "cell_type": "code",
      "metadata": {
        "id": "qHaF4eyQESdq",
        "colab_type": "code",
        "colab": {}
      },
      "source": [
        "torch.manual_seed(1)\n",
        "model = LR(1,1)"
      ],
      "execution_count": 0,
      "outputs": []
    },
    {
      "cell_type": "code",
      "metadata": {
        "id": "RxBCle0RFTKC",
        "colab_type": "code",
        "colab": {}
      },
      "source": [
        "def get_params():\n",
        "  [w, b] = model.parameters()\n",
        "  return (w[0][0].item(), b[0].item())\n",
        "  \n",
        "  \n",
        "def plot_fit(title):\n",
        "  plt.title = title\n",
        "  w1, b1 = get_params()\n",
        "  x1 = np.array([-30,30])\n",
        "  y1 = w1*x1+b1\n",
        "  plt.plot(x1,y1,'r')\n",
        "  plt.scatter(x,y)\n",
        "  plt.show()\n",
        "  "
      ],
      "execution_count": 0,
      "outputs": []
    },
    {
      "cell_type": "code",
      "metadata": {
        "id": "ZRw3mI_utDxX",
        "colab_type": "code",
        "colab": {
          "base_uri": "https://localhost:8080/",
          "height": 265
        },
        "outputId": "4a2ba484-33f7-49ba-d947-919f8090d070"
      },
      "source": [
        "plot_fit('Start State Model')"
      ],
      "execution_count": 6,
      "outputs": [
        {
          "output_type": "display_data",
          "data": {
            "image/png": "[encoded data removed]",
            "text/plain": [
              "<Figure size 432x288 with 1 Axes>"
            ]
          },
          "metadata": {
            "tags": []
          }
        }
      ]
    },
    {
      "cell_type": "code",
      "metadata": {
        "id": "JaHXvTMdN027",
        "colab_type": "code",
        "colab": {}
      },
      "source": [
        "\n",
        "criterion = torch.nn.MSELoss()\n",
        "optimizer = torch.optim.SGD(model.parameters(), lr = 0.01)"
      ],
      "execution_count": 0,
      "outputs": []
    },
    {
      "cell_type": "code",
      "metadata": {
        "id": "VKKxs0_jPQI1",
        "colab_type": "code",
        "colab": {
          "base_uri": "https://localhost:8080/",
          "height": 1000
        },
        "outputId": "df29e543-7a28-44b4-e996-24ac48a66380"
      },
      "source": [
        "epochs = 100\n",
        "losses = []\n",
        "for i in range(epochs):\n",
        "  y_pred = model.forward(x)\n",
        "  loss   = criterion(y_pred, y)\n",
        "  print(\"Epoch:\", i, \"loss:\", loss.item())\n",
        "  \n",
        "  losses.append(loss)\n",
        "  optimizer.zero_grad()\n",
        "  loss.backward()\n",
        "  optimizer.step()"
      ],
      "execution_count": 8,
      "outputs": [
        {
          "output_type": "stream",
          "text": [
            "Epoch: 0 loss: 57.62849044799805\n",
            "Epoch: 1 loss: 57.60894775390625\n",
            "Epoch: 2 loss: 57.58950424194336\n",
            "Epoch: 3 loss: 57.570194244384766\n",
            "Epoch: 4 loss: 57.551025390625\n",
            "Epoch: 5 loss: 57.5319709777832\n",
            "Epoch: 6 loss: 57.51301574707031\n",
            "Epoch: 7 loss: 57.494171142578125\n",
            "Epoch: 8 loss: 57.475399017333984\n",
            "Epoch: 9 loss: 57.45676803588867\n",
            "Epoch: 10 loss: 57.43819808959961\n",
            "Epoch: 11 loss: 57.419742584228516\n",
            "Epoch: 12 loss: 57.4013557434082\n",
            "Epoch: 13 loss: 57.38304138183594\n",
            "Epoch: 14 loss: 57.364837646484375\n",
            "Epoch: 15 loss: 57.346683502197266\n",
            "Epoch: 16 loss: 57.32863998413086\n",
            "Epoch: 17 loss: 57.3106575012207\n",
            "Epoch: 18 loss: 57.29275131225586\n",
            "Epoch: 19 loss: 57.27493667602539\n",
            "Epoch: 20 loss: 57.25714111328125\n",
            "Epoch: 21 loss: 57.23943328857422\n",
            "Epoch: 22 loss: 57.221771240234375\n",
            "Epoch: 23 loss: 57.20415496826172\n",
            "Epoch: 24 loss: 57.186607360839844\n",
            "Epoch: 25 loss: 57.169097900390625\n",
            "Epoch: 26 loss: 57.15165328979492\n",
            "Epoch: 27 loss: 57.134281158447266\n",
            "Epoch: 28 loss: 57.116947174072266\n",
            "Epoch: 29 loss: 57.09967803955078\n",
            "Epoch: 30 loss: 57.082435607910156\n",
            "Epoch: 31 loss: 57.06526184082031\n",
            "Epoch: 32 loss: 57.04811096191406\n",
            "Epoch: 33 loss: 57.0310173034668\n",
            "Epoch: 34 loss: 57.01396942138672\n",
            "Epoch: 35 loss: 56.99695587158203\n",
            "Epoch: 36 loss: 56.97996139526367\n",
            "Epoch: 37 loss: 56.96302795410156\n",
            "Epoch: 38 loss: 56.946109771728516\n",
            "Epoch: 39 loss: 56.92924880981445\n",
            "Epoch: 40 loss: 56.91241455078125\n",
            "Epoch: 41 loss: 56.8956298828125\n",
            "Epoch: 42 loss: 56.878868103027344\n",
            "Epoch: 43 loss: 56.86213684082031\n",
            "Epoch: 44 loss: 56.84543228149414\n",
            "Epoch: 45 loss: 56.828765869140625\n",
            "Epoch: 46 loss: 56.81212615966797\n",
            "Epoch: 47 loss: 56.795494079589844\n",
            "Epoch: 48 loss: 56.778934478759766\n",
            "Epoch: 49 loss: 56.762367248535156\n",
            "Epoch: 50 loss: 56.74583053588867\n",
            "Epoch: 51 loss: 56.72931671142578\n",
            "Epoch: 52 loss: 56.71286392211914\n",
            "Epoch: 53 loss: 56.696388244628906\n",
            "Epoch: 54 loss: 56.679969787597656\n",
            "Epoch: 55 loss: 56.66355895996094\n",
            "Epoch: 56 loss: 56.64716339111328\n",
            "Epoch: 57 loss: 56.63080978393555\n",
            "Epoch: 58 loss: 56.61445999145508\n",
            "Epoch: 59 loss: 56.59812545776367\n",
            "Epoch: 60 loss: 56.58180236816406\n",
            "Epoch: 61 loss: 56.56551742553711\n",
            "Epoch: 62 loss: 56.549259185791016\n",
            "Epoch: 63 loss: 56.533023834228516\n",
            "Epoch: 64 loss: 56.51679229736328\n",
            "Epoch: 65 loss: 56.5005989074707\n",
            "Epoch: 66 loss: 56.48441696166992\n",
            "Epoch: 67 loss: 56.468231201171875\n",
            "Epoch: 68 loss: 56.45210266113281\n",
            "Epoch: 69 loss: 56.43596649169922\n",
            "Epoch: 70 loss: 56.41981887817383\n",
            "Epoch: 71 loss: 56.40371322631836\n",
            "Epoch: 72 loss: 56.38762664794922\n",
            "Epoch: 73 loss: 56.371543884277344\n",
            "Epoch: 74 loss: 56.35547637939453\n",
            "Epoch: 75 loss: 56.33944320678711\n",
            "Epoch: 76 loss: 56.32342529296875\n",
            "Epoch: 77 loss: 56.307403564453125\n",
            "Epoch: 78 loss: 56.29138946533203\n",
            "Epoch: 79 loss: 56.27539825439453\n",
            "Epoch: 80 loss: 56.259403228759766\n",
            "Epoch: 81 loss: 56.24346160888672\n",
            "Epoch: 82 loss: 56.22751235961914\n",
            "Epoch: 83 loss: 56.21157455444336\n",
            "Epoch: 84 loss: 56.19567108154297\n",
            "Epoch: 85 loss: 56.17977523803711\n",
            "Epoch: 86 loss: 56.16386032104492\n",
            "Epoch: 87 loss: 56.14798355102539\n",
            "Epoch: 88 loss: 56.132102966308594\n",
            "Epoch: 89 loss: 56.116249084472656\n",
            "Epoch: 90 loss: 56.100399017333984\n",
            "Epoch: 91 loss: 56.084571838378906\n",
            "Epoch: 92 loss: 56.068763732910156\n",
            "Epoch: 93 loss: 56.05295181274414\n",
            "Epoch: 94 loss: 56.03717041015625\n",
            "Epoch: 95 loss: 56.0213737487793\n",
            "Epoch: 96 loss: 56.0056037902832\n",
            "Epoch: 97 loss: 55.98982620239258\n",
            "Epoch: 98 loss: 55.97407150268555\n",
            "Epoch: 99 loss: 55.958316802978516\n"
          ],
          "name": "stdout"
        }
      ]
    },
    {
      "cell_type": "code",
      "metadata": {
        "id": "fXG3sITeTS8X",
        "colab_type": "code",
        "colab": {
          "base_uri": "https://localhost:8080/",
          "height": 282
        },
        "outputId": "adb2096c-9372-4c73-f2df-07b1986303a7"
      },
      "source": [
        "plt.plot(range(epochs), losses)\n",
        "plt.ylabel('Loss')\n",
        "plt.ylabel('Epochs')"
      ],
      "execution_count": 9,
      "outputs": [
        {
          "output_type": "execute_result",
          "data": {
            "text/plain": [
              "Text(0, 0.5, 'Epochs')"
            ]
          },
          "metadata": {
            "tags": []
          },
          "execution_count": 9
        },
        {
          "output_type": "display_data",
          "data": {
            "image/png": "[encoded data removed]",
            "text/plain": [
              "<Figure size 432x288 with 1 Axes>"
            ]
          },
          "metadata": {
            "tags": []
          }
        }
      ]
    },
    {
      "cell_type": "code",
      "metadata": {
        "id": "qfZv18zJXa5L",
        "colab_type": "code",
        "colab": {
          "base_uri": "https://localhost:8080/",
          "height": 265
        },
        "outputId": "5591637e-88fa-4796-a380-34e42573ba02"
      },
      "source": [
        "plot_fit(\"Trained Model\")"
      ],
      "execution_count": 10,
      "outputs": [
        {
          "output_type": "display_data",
          "data": {
            "image/png": "[encoded data removed]",
            "text/plain": [
              "<Figure size 432x288 with 1 Axes>"
            ]
          },
          "metadata": {
            "tags": []
          }
        }
      ]
    }
  ]
}